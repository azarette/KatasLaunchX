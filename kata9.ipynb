{
 "cells": [
  {
   "cell_type": "markdown",
   "metadata": {},
   "source": [
    "# Ejercicio: Uso de funciones en python\n",
    "\n",
    "# Ejercicio 1: Trabajar con argumentos en funciones"
   ]
  },
  {
   "cell_type": "code",
   "execution_count": 10,
   "metadata": {},
   "outputs": [],
   "source": [
    "def lectura_combustible(tanque1, tanque2, tanque3):\n",
    "    print(f\"\"\"INFORME DE COMBUSTIBLE\n",
    "    Tu tanque 1 tiene: {tanque1}\n",
    "    Tu tanque 2 tiene: {tanque2}\n",
    "    Tu tanque 3 tiene: {tanque3} \"\"\")\n",
    "    promedio=(tanque1+tanque2+tanque3)/3\n",
    "    return promedio"
   ]
  },
  {
   "cell_type": "code",
   "execution_count": 11,
   "metadata": {},
   "outputs": [
    {
     "name": "stdout",
     "output_type": "stream",
     "text": [
      "INFORME DE COMBUSTIBLE\n",
      "    Tu tanque 1 tiene: 50\n",
      "    Tu tanque 2 tiene: 50\n",
      "    Tu tanque 3 tiene: 50 \n",
      "50.0\n"
     ]
    }
   ],
   "source": [
    "print(lectura_combustible(50, 50, 50))"
   ]
  },
  {
   "cell_type": "code",
   "execution_count": 27,
   "metadata": {},
   "outputs": [],
   "source": [
    "def promedio_tanques(tanque1, tanque2, tanque3):\n",
    "    promedio=(tanque1+tanque2+tanque3)/3\n",
    "    return promedio\n"
   ]
  },
  {
   "cell_type": "code",
   "execution_count": 28,
   "metadata": {},
   "outputs": [],
   "source": [
    "def lectura_combustible(tanque1, tanque2, tanque3):\n",
    "    print(f\"\"\"INFORME DE COMBUSTIBLE\n",
    "    Tu tanque 1 tiene: {tanque1}\n",
    "    Tu tanque 2 tiene: {tanque2}\n",
    "    Tu tanque 3 tiene: {tanque3} \"\"\")\n",
    "    prom=promedio_tanques(tanque1, tanque2, tanque3)\n",
    "    return prom"
   ]
  },
  {
   "cell_type": "code",
   "execution_count": 29,
   "metadata": {},
   "outputs": [
    {
     "name": "stdout",
     "output_type": "stream",
     "text": [
      "INFORME DE COMBUSTIBLE\n",
      "    Tu tanque 1 tiene: 50\n",
      "    Tu tanque 2 tiene: 50\n",
      "    Tu tanque 3 tiene: 50 \n",
      "50.0\n"
     ]
    }
   ],
   "source": [
    "print(lectura_combustible(50, 50, 50))\n"
   ]
  },
  {
   "cell_type": "markdown",
   "metadata": {},
   "source": [
    "# Ejercicio 2: Trabajo con argumentos de palabra clave\n",
    "\n",
    "# Ejercicio: Trabajar con argumentos de palabras clave en funciones"
   ]
  },
  {
   "cell_type": "code",
   "execution_count": 34,
   "metadata": {},
   "outputs": [
    {
     "name": "stdout",
     "output_type": "stream",
     "text": [
      " INFORME DE LA NAVE \n",
      "hora_prelanzamiento: 11:10\n",
      "tiempo_vuelo: 12 hrs\n",
      "destino: Michael\n",
      "tanque: 50\n"
     ]
    }
   ],
   "source": [
    "def informe(**kw):\n",
    "    print(f\"\"\" INFORME DE LA NAVE \"\"\")\n",
    "    for title, name in kw.items():\n",
    "        print(f'{title}: {name}')\n",
    "informe(hora_prelanzamiento='11:10', tiempo_vuelo='12 hrs', destino='Michael', tanque=50)"
   ]
  },
  {
   "cell_type": "code",
   "execution_count": 49,
   "metadata": {},
   "outputs": [
    {
     "name": "stdout",
     "output_type": "stream",
     "text": [
      " INFORME DE LA NAVE \n",
      "Tiempo de vuelo= ('12hrs',)\n",
      "hora_prelanzamiento: 11:10\n",
      "destino: Michael\n",
      "tanque: 50\n"
     ]
    }
   ],
   "source": [
    "def informe2(*minutos, **lodemas):\n",
    "   print(\" INFORME DE LA NAVE \") \n",
    "   print(\"Tiempo de vuelo= \" + str(minutos))\n",
    "   for title, name in lodemas.items():\n",
    "        print(f'{title}: {name}')\n",
    "    \n",
    "\n",
    "informe2( \"12hrs\",hora_prelanzamiento='11:10', destino='Michael', tanque=50)\n"
   ]
  }
 ],
 "metadata": {
  "interpreter": {
   "hash": "b89b5cfaba6639976dc87ff2fec6d58faec662063367e2c229c520fe71072417"
  },
  "kernelspec": {
   "display_name": "Python 3.10.2 64-bit",
   "language": "python",
   "name": "python3"
  },
  "language_info": {
   "codemirror_mode": {
    "name": "ipython",
    "version": 3
   },
   "file_extension": ".py",
   "mimetype": "text/x-python",
   "name": "python",
   "nbconvert_exporter": "python",
   "pygments_lexer": "ipython3",
   "version": "3.10.2"
  },
  "orig_nbformat": 4
 },
 "nbformat": 4,
 "nbformat_minor": 2
}
