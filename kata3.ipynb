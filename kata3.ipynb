{
 "cells": [
  {
   "cell_type": "code",
   "execution_count": null,
   "metadata": {},
   "outputs": [],
   "source": []
  },
  {
   "cell_type": "markdown",
   "metadata": {},
   "source": [
    "# Ejercicio - Escribir declaraciones if,else, y elif"
   ]
  },
  {
   "cell_type": "code",
   "execution_count": 7,
   "metadata": {},
   "outputs": [
    {
     "name": "stdout",
     "output_type": "stream",
     "text": [
      "12\n",
      "Todo esta en orden\n"
     ]
    }
   ],
   "source": [
    "vel_asteroide= input(\"¿Que velocidad lleva el asteroide (49 por default)?\")\n",
    "if vel_asteroide == \"\":\n",
    "    vel_asteroide = 49\n",
    "if int(vel_asteroide)>25:\n",
    "    #Mandar advertencia\n",
    "    print(\"ADVERTENCIA DE ASTEROIDE\")\n",
    "else:\n",
    "    print(\"Todo esta en orden\")"
   ]
  },
  {
   "cell_type": "code",
   "execution_count": 9,
   "metadata": {},
   "outputs": [
    {
     "name": "stdout",
     "output_type": "stream",
     "text": [
      "20\n",
      "Favor de buscar señales del asteroide en el cielo\n"
     ]
    }
   ],
   "source": [
    "vel_asteroide= input(\"¿Que velocidad lleva el asteroide (19 por default)?\")\n",
    "if vel_asteroide == \"\":\n",
    "    vel_asteroide = 49\n",
    "if int(vel_asteroide)>=20:\n",
    "    #Mandar advertencia\n",
    "    print(\"Favor de buscar señales del asteroide en el cielo\")"
   ]
  },
  {
   "cell_type": "code",
   "execution_count": 20,
   "metadata": {},
   "outputs": [
    {
     "name": "stdout",
     "output_type": "stream",
     "text": [
      "Todo esta en orden\n",
      "49\n",
      "10\n"
     ]
    }
   ],
   "source": [
    "vel_asteroide= input(\"¿Que velocidad lleva el asteroide (49km/s por default)?\")\n",
    "tam_asteroide= input(\"¿Que tamaño tiene el asteroide (10cm por default)?\")\n",
    "if vel_asteroide == \"\":\n",
    "    vel_asteroide = 49\n",
    "if tam_asteroide == \"\":\n",
    "    tam_asteroide = 10\n",
    "if int(vel_asteroide)>25 and int(tam_asteroide) >= 25:\n",
    "    #Mandar advertencia\n",
    "    print(\"ADVERTENCIA DE ASTEROIDE\")\n",
    "elif int(vel_asteroide)<20 or int(tam_asteroide) < 25:\n",
    "    print(\"Todo esta en orden\")\n",
    "elif int(vel_asteroide)>20 and int(vel_asteroide) < 25:\n",
    "    print(\"Miren las luces del cielo\")\n",
    "else:\n",
    "    print(\"Todo esta en orden\")\n",
    "print(vel_asteroide)\n",
    "print(tam_asteroide)"
   ]
  }
 ],
 "metadata": {
  "interpreter": {
   "hash": "3a042e86753a4e8ed48e29b8c31ef12a21613b33c055319424e27318b7728468"
  },
  "kernelspec": {
   "display_name": "Python 3.10.2 64-bit",
   "language": "python",
   "name": "python3"
  },
  "language_info": {
   "codemirror_mode": {
    "name": "ipython",
    "version": 3
   },
   "file_extension": ".py",
   "mimetype": "text/x-python",
   "name": "python",
   "nbconvert_exporter": "python",
   "pygments_lexer": "ipython3",
   "version": "3.10.2"
  },
  "orig_nbformat": 4
 },
 "nbformat": 4,
 "nbformat_minor": 2
}
